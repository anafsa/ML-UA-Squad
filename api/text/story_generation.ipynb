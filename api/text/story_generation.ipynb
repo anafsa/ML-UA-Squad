{
 "cells": [
  {
   "cell_type": "code",
   "execution_count": 1,
   "metadata": {},
   "outputs": [],
   "source": [
    "import time\n",
    "import requests\n",
    "\n",
    "import openai"
   ]
  },
  {
   "cell_type": "code",
   "execution_count": 2,
   "metadata": {},
   "outputs": [],
   "source": [
    "# OpenAI API credentials\n",
    "AZURE_OPENAI_KEY = \"41d471bedea9412e9d0a5461cf69bfc8\"\n",
    "AZURE_OPENAI_ENDPOINT = \"https://openai-resource-team-6-france.openai.azure.com/\"\n",
    "AZURE_ENGINE_NAME = \"gpt35-team-6\"\n",
    "\n",
    "openai.api_type = \"azure\"\n",
    "openai.api_base = AZURE_OPENAI_ENDPOINT\n",
    "openai.api_version = \"2023-05-15\"\n",
    "openai.api_key = AZURE_OPENAI_KEY"
   ]
  },
  {
   "cell_type": "code",
   "execution_count": 3,
   "metadata": {},
   "outputs": [
    {
     "data": {
      "text/plain": [
       "'\\n\\'Once upon a time, in a cozy little town called Sunnyville, there lived a young girl named Lily. Lily loved playing outside, chasing butterflies, and exploring the colorful meadows. But there was one thing that made Lily\\'s adventures a little tricky – she had allergies.\\n\\nAllergies are like mischievous little creatures that live inside our bodies. Lily\\'s body had some special creatures called \"allergens\" that made her feel sick. These allergens could be found in things like pollen from flowers, fur from cuddly animals, or even certain foods.\\n\\nOne sunny morning, Lily woke up with a stuffy nose and itchy, watery eyes. She knew her allergies were acting up again. Her mom noticed and said, \"Oh, dear, it seems like your allergies are bothering you today. Let\\'s figure out what\\'s causing it.\"\\n\\nLily and her mom decided to go on an adventure together to find the culprit of her allergies. They walked through the flower-filled meadow, where Lily would often play. Suddenly, Lily sneezed! \"Achoo!\" It was the flowers! Lily\\'s body didn\\'t get along well with the pollen they released into the air.\\n\\nAs they continued their adventure, they met a friendly dog named Max. He wagged his tail happily, excited to meet Lily. But as Lily got closer to Max, she started to itch all over. It was Max\\'s fur! Lily\\'s body didn\\'t like the tiny particles that clung to the dog\\'s fur.\\n\\nLily\\'s mom explained that allergies were like Lily\\'s body having very picky taste buds. Just as some people might not like the taste of certain foods, Lily\\'s body didn\\'t like the pollen or Max\\'s fur. Even though these things might be harmless to others, Lily\\'s body saw them as intruders it needed to protect her from.\\n\\nBut Lily wasn\\'t discouraged. She learned that she could still have fantastic adventures without letting her allergies ruin the fun. She started wearing a cool hat and sunglasses to shield her eyes from pollen. And whenever she encountered animals like Max, she made sure to wash her hands and clothes afterward to get rid of any allergens.\\n\\nLily also discovered that some foods made her feel itchy and uncomfortable. She learned to read food labels and avoid those ingredients. But there were still plenty of delicious meals and snacks she could enjoy without any problems.\\n\\nAs Lily embraced these new strategies, she found she could still play outside, meet new friends, and have amazing adventures. Her allergies didn\\'t hold her back anymore. And whenever she needed a break, she would curl up with a good book and travel to imaginary worlds where allergies didn\\'t exist.\\n\\nThe end.\\'\\n'"
      ]
     },
     "execution_count": 3,
     "metadata": {},
     "output_type": "execute_result"
    }
   ],
   "source": [
    "'''\n",
    "'Once upon a time, in a cozy little town called Sunnyville, there lived a young girl named Lily. Lily loved playing outside, chasing butterflies, and exploring the colorful meadows. But there was one thing that made Lily\\'s adventures a little tricky – she had allergies.\\n\\nAllergies are like mischievous little creatures that live inside our bodies. Lily\\'s body had some special creatures called \"allergens\" that made her feel sick. These allergens could be found in things like pollen from flowers, fur from cuddly animals, or even certain foods.\\n\\nOne sunny morning, Lily woke up with a stuffy nose and itchy, watery eyes. She knew her allergies were acting up again. Her mom noticed and said, \"Oh, dear, it seems like your allergies are bothering you today. Let\\'s figure out what\\'s causing it.\"\\n\\nLily and her mom decided to go on an adventure together to find the culprit of her allergies. They walked through the flower-filled meadow, where Lily would often play. Suddenly, Lily sneezed! \"Achoo!\" It was the flowers! Lily\\'s body didn\\'t get along well with the pollen they released into the air.\\n\\nAs they continued their adventure, they met a friendly dog named Max. He wagged his tail happily, excited to meet Lily. But as Lily got closer to Max, she started to itch all over. It was Max\\'s fur! Lily\\'s body didn\\'t like the tiny particles that clung to the dog\\'s fur.\\n\\nLily\\'s mom explained that allergies were like Lily\\'s body having very picky taste buds. Just as some people might not like the taste of certain foods, Lily\\'s body didn\\'t like the pollen or Max\\'s fur. Even though these things might be harmless to others, Lily\\'s body saw them as intruders it needed to protect her from.\\n\\nBut Lily wasn\\'t discouraged. She learned that she could still have fantastic adventures without letting her allergies ruin the fun. She started wearing a cool hat and sunglasses to shield her eyes from pollen. And whenever she encountered animals like Max, she made sure to wash her hands and clothes afterward to get rid of any allergens.\\n\\nLily also discovered that some foods made her feel itchy and uncomfortable. She learned to read food labels and avoid those ingredients. But there were still plenty of delicious meals and snacks she could enjoy without any problems.\\n\\nAs Lily embraced these new strategies, she found she could still play outside, meet new friends, and have amazing adventures. Her allergies didn\\'t hold her back anymore. And whenever she needed a break, she would curl up with a good book and travel to imaginary worlds where allergies didn\\'t exist.\\n\\nThe end.'\n",
    "'''"
   ]
  },
  {
   "cell_type": "code",
   "execution_count": 4,
   "metadata": {},
   "outputs": [],
   "source": [
    "def ask_gpt(command, text):\n",
    "    return openai.ChatCompletion.create(\n",
    "        engine=AZURE_ENGINE_NAME,\n",
    "        messages=[\n",
    "            {\"role\": \"system\", \"content\": command},\n",
    "            {\"role\": \"user\", \"content\": text}\n",
    "        ]\n",
    "    )\n",
    "\n",
    "def create_story(request):\n",
    "    command = \"You are a helpful storyteller for children.\"\n",
    "    return ask_gpt(command, request)\n",
    "\n",
    "def get_summary(story):\n",
    "    command = \"You will be provided with a story, and your task is to summarize the story using at most 70 words.\"\n",
    "    return ask_gpt(command, story)\n",
    "\n",
    "def get_title(story, attempt=0):\n",
    "    command = \"You will be provided with a story, and your task is to create a title for it using at most 15 words.\"\n",
    "    title = ask_gpt(command, story).choices[0].message[\"content\"]\n",
    "    num_words = len(title.split())\n",
    "    if (num_words > 15 or num_words==0):\n",
    "        if attempt < 3:\n",
    "            return get_title(story, attempt+1)\n",
    "        else:\n",
    "            return \"Once upon a time...\"\n",
    "    return title\n",
    "\n",
    "def get_feeling(story, attempt=0):\n",
    "    command = \"You will be provided with a short story. Your task is to summarize the story using one word that describes the overall emotion \" +\\\n",
    "        \"of the paragraph. For example, if the story is about a happy event, you might use the word joy to summarize it. You should use one of \" +\\\n",
    "        \"the following words: happiness, sadness, anger, fear, surprise, disgust, contempt, resilience.\"\n",
    "    feeling = ask_gpt(command, story).choices[0].message[\"content\"].lower()\n",
    "    if feeling not in [\"happiness\", \"sadness\", \"anger\", \"fear\", \"surprise\", \"disgust\", \"contempt\", \"resilience\", \"neutral\"]:\n",
    "        if attempt < 3:\n",
    "            return get_feeling(story, attempt+1)\n",
    "        else:\n",
    "            return \"neutral\"\n",
    "    return feeling\n",
    "\n",
    "def get_sentiment_level(story, attempt=0):\n",
    "    command = \"You will be provided with a short story. Your task is to get the sentiment level of the overall paragraph. \" +\\\n",
    "        \"You should use one of the following words: very positive, positive, neutral, negative, very negative.\"\n",
    "    sentiment = ask_gpt(command, story).choices[0].message[\"content\"].lower()\n",
    "    if sentiment not in [\"very positive\", \"positive\", \"neutral\", \"negative\", \"very negative\"]:\n",
    "        if attempt < 3:\n",
    "            return get_sentiment_level(story, attempt+1)\n",
    "        else:\n",
    "            return \"neutral\"\n",
    "    return sentiment\n",
    "\n",
    "def get_paragraphs(story):\n",
    "    # split output_chatgpt into paragraphs\n",
    "    paragraphs = story.split('\\n\\n')\n",
    "    paragraphs = [x for x in paragraphs if x != '']\n",
    "    # remove spaces from the beginning of each paragraph\n",
    "    paragraphs = [x[1:] if x[0] == ' ' else x for x in paragraphs]\n",
    "    return paragraphs"
   ]
  },
  {
   "cell_type": "code",
   "execution_count": 5,
   "metadata": {},
   "outputs": [
    {
     "data": {
      "text/plain": [
       "'1689785394'"
      ]
     },
     "execution_count": 5,
     "metadata": {},
     "output_type": "execute_result"
    }
   ],
   "source": [
    "# For this case, the main_id is the timestamp when the story is created\n",
    "main_id = str(int(time.time()))\n",
    "main_id"
   ]
  },
  {
   "cell_type": "code",
   "execution_count": 6,
   "metadata": {},
   "outputs": [],
   "source": [
    "story = \"Once upon a time, there was a little boy named Timmy. Timmy was a happy and a playful boy who loved going out and playing with his friends. However, Timmy had some allergies which made it a little difficult for him to enjoy certain things like his friends did.\\n\\nOne day, Timmy went on a picnic with his friends. His mother had carefully packed him a lunchbox full of delicious food that she knew he could eat without any problems. As the children were playing and enjoying their food, Timmy noticed that his nose started to itch, and his eyes began to water. Suddenly, he started to feel unwell, and his throat began to hurt.\\n\\nTimmy's mother was nearby and noticed he wasn't feeling well. She quickly realized that Timmy was having an allergic reaction to something he had eaten. She gave him some medicine and rushed him to the hospital. Luckily, they were able to treat him before things got worse.\\n\\nAfterward, Timmy's mother explained to him about allergies. She told him that sometimes our bodies don't like certain things, and when we come into contact with them, it can cause us to feel unwell. She told him that it was important to always be careful with what he ate and to let others know about his allergies so they could help keep him safe.\\n\\nFrom that day on, Timmy was very careful about what he ate and always let his friends and family know about his allergies. He knew that being cautious was better than risking another scary reaction. With his mother's help and the knowledge she provided him, Timmy was able to have more fun and enjoy being with his friends without worrying about his allergies.\""
   ]
  },
  {
   "cell_type": "code",
   "execution_count": 7,
   "metadata": {},
   "outputs": [
    {
     "name": "stdout",
     "output_type": "stream",
     "text": [
      "Once upon a time, there was a little boy named Timmy. Timmy was a happy and a playful boy who loved going out and playing with his friends. However, Timmy had some allergies which made it a little difficult for him to enjoy certain things like his friends did.\n",
      "\n",
      "One day, Timmy went on a picnic with his friends. His mother had carefully packed him a lunchbox full of delicious food that she knew he could eat without any problems. As the children were playing and enjoying their food, Timmy noticed that his nose started to itch, and his eyes began to water. Suddenly, he started to feel unwell, and his throat began to hurt.\n",
      "\n",
      "Timmy's mother was nearby and noticed he wasn't feeling well. She quickly realized that Timmy was having an allergic reaction to something he had eaten. She gave him some medicine and rushed him to the hospital. Luckily, they were able to treat him before things got worse.\n",
      "\n",
      "Afterward, Timmy's mother explained to him about allergies. She told him that sometimes our bodies don't like certain things, and when we come into contact with them, it can cause us to feel unwell. She told him that it was important to always be careful with what he ate and to let others know about his allergies so they could help keep him safe.\n",
      "\n",
      "From that day on, Timmy was very careful about what he ate and always let his friends and family know about his allergies. He knew that being cautious was better than risking another scary reaction. With his mother's help and the knowledge she provided him, Timmy was able to have more fun and enjoy being with his friends without worrying about his allergies.\n"
     ]
    }
   ],
   "source": [
    "request = \"Can you explain allergies to me while telling me a children's story?\"\n",
    "#completion = create_story(request)\n",
    "#story = completion.choices[0].message[\"content\"]\n",
    "print(story)\n",
    "title = get_title(story)\n",
    "summ = get_summary(story)\n",
    "feeling = get_feeling(story)\n",
    "paragraphs = get_paragraphs(story)"
   ]
  },
  {
   "cell_type": "code",
   "execution_count": 11,
   "metadata": {},
   "outputs": [
    {
     "name": "stdout",
     "output_type": "stream",
     "text": [
      "0\n",
      "Once upon a time, there was a little boy named Timmy. Timmy was a happy and a playful boy who loved going out and playing with his friends. However, Timmy had some allergies which made it a little difficult for him to enjoy certain things like his friends did.\n",
      "neutral\n",
      "resilience\n",
      "1\n",
      "One day, Timmy went on a picnic with his friends. His mother had carefully packed him a lunchbox full of delicious food that she knew he could eat without any problems. As the children were playing and enjoying their food, Timmy noticed that his nose started to itch, and his eyes began to water. Suddenly, he started to feel unwell, and his throat began to hurt.\n",
      "negative\n",
      "fear\n",
      "2\n",
      "Timmy's mother was nearby and noticed he wasn't feeling well. She quickly realized that Timmy was having an allergic reaction to something he had eaten. She gave him some medicine and rushed him to the hospital. Luckily, they were able to treat him before things got worse.\n",
      "positive\n",
      "relief\n",
      "3\n",
      "Afterward, Timmy's mother explained to him about allergies. She told him that sometimes our bodies don't like certain things, and when we come into contact with them, it can cause us to feel unwell. She told him that it was important to always be careful with what he ate and to let others know about his allergies so they could help keep him safe.\n",
      "neutral\n",
      "awareness\n",
      "4\n",
      "From that day on, Timmy was very careful about what he ate and always let his friends and family know about his allergies. He knew that being cautious was better than risking another scary reaction. With his mother's help and the knowledge she provided him, Timmy was able to have more fun and enjoy being with his friends without worrying about his allergies.\n",
      "positive\n",
      "resilience\n"
     ]
    }
   ],
   "source": [
    "for idx, paragraph in enumerate(paragraphs):\n",
    "\tsentiment_level = get_sentiment_level(paragraph)\n",
    "\tfeeling = get_feeling(paragraph)\n",
    "\tprint(idx)\n",
    "\tprint(paragraph)\n",
    "\tprint(sentiment_level)\n",
    "\tprint(feeling)"
   ]
  },
  {
   "cell_type": "code",
   "execution_count": null,
   "metadata": {},
   "outputs": [],
   "source": []
  },
  {
   "cell_type": "code",
   "execution_count": null,
   "metadata": {},
   "outputs": [],
   "source": [
    "'''\n",
    "Main\n",
    "{\n",
    "\t\"id\": \"String\",\n",
    "\t\"title\": \"String\",\n",
    "    \"summary\": \"String\",\n",
    "\t\"main_prompt\": \"String*\", # prompt that generated the main story\n",
    "\t\"tone\": \"String\", # happy, sad, etc.\n",
    "    tags: [\"String\"], # comedy, drama, etc.\n",
    "\t\"history\": [Scene]\n",
    "}\n",
    "Scene\n",
    "{\n",
    "\t\"id\": \"String\",\n",
    "\t\"text\": \"String\",\n",
    "\t\"sentiment\": \"String\",\n",
    "\t\"polarity\": \"String\", # negative to positive\n",
    "\t\"tone_song\": \"String\",\n",
    "\t\"image\": \"b64\"\n",
    "}\n",
    "'''\n"
   ]
  }
 ],
 "metadata": {
  "kernelspec": {
   "display_name": "ml_ua_squad_env",
   "language": "python",
   "name": "python3"
  },
  "language_info": {
   "codemirror_mode": {
    "name": "ipython",
    "version": 3
   },
   "file_extension": ".py",
   "mimetype": "text/x-python",
   "name": "python",
   "nbconvert_exporter": "python",
   "pygments_lexer": "ipython3",
   "version": "3.8.10"
  },
  "orig_nbformat": 4
 },
 "nbformat": 4,
 "nbformat_minor": 2
}
